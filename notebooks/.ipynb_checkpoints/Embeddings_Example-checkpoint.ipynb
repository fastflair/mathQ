{
 "cells": [
  {
   "cell_type": "markdown",
   "id": "f7b789df",
   "metadata": {},
   "source": [
    "## Embeddings Demo"
   ]
  },
  {
   "cell_type": "code",
   "execution_count": 1,
   "id": "a1395bce",
   "metadata": {},
   "outputs": [
    {
     "name": "stderr",
     "output_type": "stream",
     "text": [
      "2022-08-11 11:15:45.054167: W tensorflow/stream_executor/platform/default/dso_loader.cc:64] Could not load dynamic library 'libcudart.so.11.0'; dlerror: libcudart.so.11.0: cannot open shared object file: No such file or directory\n",
      "2022-08-11 11:15:45.054285: I tensorflow/stream_executor/cuda/cudart_stub.cc:29] Ignore above cudart dlerror if you do not have a GPU set up on your machine.\n"
     ]
    }
   ],
   "source": [
    "import openai\n",
    "import umap\n",
    "import json\n",
    "import matplotlib.pyplot as plt\n",
    "import numpy as np\n",
    "from sentence_transformers import util\n",
    "import os"
   ]
  },
  {
   "cell_type": "markdown",
   "id": "064f65e2",
   "metadata": {},
   "source": [
    "### Configuration"
   ]
  },
  {
   "cell_type": "code",
   "execution_count": 2,
   "id": "6de563d9",
   "metadata": {},
   "outputs": [],
   "source": [
    "openai.api_key = os.getenv('OpenAI_API_Key')"
   ]
  },
  {
   "cell_type": "code",
   "execution_count": 3,
   "id": "028e6989",
   "metadata": {},
   "outputs": [],
   "source": [
    "courses = ['18.01', '18.02', '18.03', '6.042', '18.05', '18.06', 'COMS3251']\n",
    "MATH_sections = ['MATH_Algebra', 'MATH_Counting_&_Probability', 'MATH_Intermediate_Algebra', \n",
    "                 'MATH_Number_Theory', 'MATH_Prealgebra', 'MATH_Precalculus']\n",
    "image_labels = {'18.01':'r.', '18.02':'g.', '18.03':'b.', '18.05':'mx', '18.06':'k+', '6.042':'cx', 'COMS3251':'y+'}\n",
    "courses_embeddings_location = './../code/course_embeddings.json'\n",
    "MATH_embeddings_location = './../code/MATH_embeddings.json'\n",
    "image_location = \"UMAP.png\"\n",
    "embedding_engine = 'text-similarity-babbage-001'\n",
    "questions_per_course = 25\n",
    "questions_per_MATH_section = 15"
   ]
  },
  {
   "cell_type": "markdown",
   "id": "aa8cc486",
   "metadata": {},
   "source": [
    "### Helper Functions"
   ]
  },
  {
   "cell_type": "code",
   "execution_count": 4,
   "id": "e580bc88",
   "metadata": {},
   "outputs": [],
   "source": [
    "def make_embeddings(embedding_engine, embeddings_location, courses, questions_per_course):\n",
    "    \"\"\"\n",
    "    Takes json files of questions using our json file formatting, \n",
    "        embeds them using OpenAI's embedding_engine,\n",
    "        and saves a new json, embeddings.json, of the embeddings.\n",
    "    \"\"\"\n",
    "    list_of_embeddings = []\n",
    "    for course in courses:\n",
    "        print(\"Currently embedding \" + course + \"...\")\n",
    "\n",
    "        for num in range(1, questions_per_course + 1):\n",
    "            if num < 10:\n",
    "                q_num = '0' + str(num)\n",
    "            else:\n",
    "                q_num = str(num)\n",
    "            json_location = './../data/' + course.split('_')[0] + '/' + course + '_Question_' + q_num + '.json'\n",
    "            with open(json_location, 'r') as f:\n",
    "                data = json.load(f)\n",
    "            raw_question = data['Original question']\n",
    "            embedding = openai.Embedding.create(input = raw_question, \n",
    "                                                engine = embedding_engine)['data'][0]['embedding']\n",
    "            list_of_embeddings.append(embedding)\n",
    "\n",
    "    embeddings = {'list_of_embeddings':list_of_embeddings}\n",
    "    with open(embeddings_location, 'w') as f:\n",
    "        f.write(json.dumps(embeddings))\n",
    "\n",
    "def get_embeddings(embeddings_file):\n",
    "    \"\"\"\n",
    "    Retrieves embeddings from embeddings_file. Embeddings are assumed to be (n x d).\n",
    "    \"\"\"\n",
    "    with open(embeddings_file, 'r') as f:\n",
    "        points = json.load(f)['list_of_embeddings']\n",
    "    return np.array(points)\n",
    "\n",
    "def get_most_similar(embeddings, i):\n",
    "    \"\"\"\n",
    "    Returns most similar questions, while they are in their embedded form, \n",
    "        to the target, index i, via cosine similarity.\n",
    "    \"\"\"\n",
    "    cos_sims = []\n",
    "    cos_to_num = {}\n",
    "    for j in range(len(embeddings)):\n",
    "        cos_sim = util.cos_sim(embeddings[i], embeddings[j]).item()\n",
    "        cos_to_num[cos_sim] = j\n",
    "        cos_sims.append(cos_sim)\n",
    "    ordered = sorted(cos_sims, reverse=True)\n",
    "    closest_qs = []\n",
    "    for val in ordered:\n",
    "        closest_qs.append(cos_to_num[val]+1)\n",
    "    return closest_qs[1:]\n",
    "\n",
    "def reduce_via_umap(embeddings, num_dims=2):\n",
    "    \"\"\"\n",
    "    Reduces the dimensionality of the provided embeddings(which are vectors) to num_dims via UMAP.\n",
    "    If embeddings was an (n x d) numpy array, it will be reduced to a (n x num_dims) numpy array.\n",
    "    \"\"\"\n",
    "    reducer = umap.UMAP(n_components=num_dims)\n",
    "    reduced = reducer.fit_transform(embeddings)\n",
    "    return reduced\n",
    "\n",
    "def plot_clusters(points, image_loc, questions_per_course=25, show=False, question_labels=False, \n",
    "                  label_font='xx-small', dpi=200, width=9.5, height=6.5, legend_loc=(1, 1.01), right_shift=0.72):\n",
    "    \"\"\"\n",
    "    Plots clusters of points. points is assumed to be a n by 2 numpy array.\n",
    "    Set question_labels to True if you want to see each point labeled with its question number.\n",
    "    Set show to True if you want the created plot to pop up.\n",
    "    The other parameters are defaulted to values that we have found to work well for the visual itself.\n",
    "    \"\"\"\n",
    "    x = [x for x,y in points]\n",
    "    y = [y for x,y in points]\n",
    "    plt.subplots_adjust(right=right_shift)\n",
    "    figure = plt.gcf()\n",
    "    figure.set_size_inches(w=width,h=height)\n",
    "\n",
    "    for i, course in enumerate(courses):\n",
    "        plt.scatter(x[i*questions_per_course:(i+1)*questions_per_course], \n",
    "                    y[i*questions_per_course:(i+1)*questions_per_course], \n",
    "                    c = image_labels[course][0], \n",
    "                    label = course, \n",
    "                    marker = image_labels[course][1])\n",
    "        if question_labels:\n",
    "            for j in range(questions_per_course):\n",
    "                plt.annotate(j+1, (x[questions_per_course*i+j], y[questions_per_course*i+j]), fontsize=label_font)\n",
    "\n",
    "    plt.legend(bbox_to_anchor=legend_loc)\n",
    "    plt.savefig(image_loc, dpi=dpi)\n",
    "    if show:\n",
    "        plt.show()"
   ]
  },
  {
   "cell_type": "markdown",
   "id": "1ffddbb8",
   "metadata": {},
   "source": [
    "## Generate and visualize embeddings"
   ]
  },
  {
   "cell_type": "code",
   "execution_count": 5,
   "id": "238af232",
   "metadata": {},
   "outputs": [
    {
     "data": {
      "image/png": "[encoded data removed]",
      "text/plain": [
       "<Figure size 684x468 with 1 Axes>"
      ]
     },
     "metadata": {
      "needs_background": "light"
     },
     "output_type": "display_data"
    }
   ],
   "source": [
    "if not os.path.exists(courses_embeddings_location):\n",
    "    make_embeddings(embedding_engine, courses_embeddings_location, courses, questions_per_course)\n",
    "embeddings = get_embeddings(courses_embeddings_location)\n",
    "reduced_points = reduce_via_umap(embeddings)\n",
    "plot_clusters(reduced_points, image_location, questions_per_course=questions_per_course, question_labels=True)\n",
    "\n",
    "#for MATH:\n",
    "if not os.path.exists(MATH_embeddings_location):\n",
    "    make_embeddings(embedding_engine, MATH_embeddings_location, MATH_sections, questions_per_MATH_section)"
   ]
  },
  {
   "cell_type": "code",
   "execution_count": null,
   "id": "24017ba5",
   "metadata": {},
   "outputs": [],
   "source": []
  }
 ],
 "metadata": {
  "kernelspec": {
   "display_name": "Python 3 (ipykernel)",
   "language": "python",
   "name": "python3"
  },
  "language_info": {
   "codemirror_mode": {
    "name": "ipython",
    "version": 3
   },
   "file_extension": ".py",
   "mimetype": "text/x-python",
   "name": "python",
   "nbconvert_exporter": "python",
   "pygments_lexer": "ipython3",
   "version": "3.9.13"
  }
 },
 "nbformat": 4,
 "nbformat_minor": 5
}
